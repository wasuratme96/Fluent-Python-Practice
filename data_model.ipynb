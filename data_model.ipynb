{
 "cells": [
  {
   "cell_type": "markdown",
   "metadata": {},
   "source": [
    "## Pythonic Card Deck\n",
    "Implementing 2 specials method ```__getitme__``` and ```__len__``` <br/>\n",
    "**Result** >> Make object work as a list object"
   ]
  },
  {
   "cell_type": "code",
   "execution_count": 4,
   "metadata": {},
   "outputs": [],
   "source": [
    "import collections\n",
    "\n",
    "Card = collections.namedtuple('Card', ['rank', 'suite'])\n",
    "\n",
    "class FrenchDeck:\n",
    "    # Declare internal class variables\n",
    "    ranks = [str(n) for n in range(2, 11)] + list(\"JQKA\")\n",
    "    suits = 'spades diamond clubs hearts'.split()\n",
    "\n",
    "    def __init__(self):\n",
    "        self._cards = [Card(rank, suit) for suit in self.suits\n",
    "                                        for rank in self.ranks]\n",
    "\n",
    "    def __len__(self):\n",
    "        return len(self._cards)\n",
    "    def __getitem__(self, position):\n",
    "        return self._cards[position]"
   ]
  },
  {
   "cell_type": "code",
   "execution_count": 5,
   "metadata": {},
   "outputs": [
    {
     "data": {
      "text/plain": [
       "Card(rank='7', suite='diamonds')"
      ]
     },
     "execution_count": 5,
     "metadata": {},
     "output_type": "execute_result"
    }
   ],
   "source": [
    "beer_card = Card('7', 'diamonds')\n",
    "beer_card"
   ]
  },
  {
   "cell_type": "code",
   "execution_count": 8,
   "metadata": {},
   "outputs": [
    {
     "data": {
      "text/plain": [
       "(52, Card(rank='2', suite='spades'), Card(rank='A', suite='hearts'))"
      ]
     },
     "execution_count": 8,
     "metadata": {},
     "output_type": "execute_result"
    }
   ],
   "source": [
    "deck = FrenchDeck()\n",
    "\n",
    "# Use len and positioning index\n",
    "len(deck), deck[0], deck[-1]"
   ]
  },
  {
   "cell_type": "code",
   "execution_count": 10,
   "metadata": {},
   "outputs": [
    {
     "data": {
      "text/plain": [
       "(Card(rank='5', suite='clubs'), Card(rank='Q', suite='diamond'))"
      ]
     },
     "execution_count": 10,
     "metadata": {},
     "output_type": "execute_result"
    }
   ],
   "source": [
    "from random import choice\n",
    "\n",
    "# Use random.choice like a list\n",
    "choice(deck), choice(deck)"
   ]
  },
  {
   "cell_type": "code",
   "execution_count": 11,
   "metadata": {},
   "outputs": [
    {
     "data": {
      "text/plain": [
       "[Card(rank='2', suite='spades'),\n",
       " Card(rank='3', suite='spades'),\n",
       " Card(rank='4', suite='spades')]"
      ]
     },
     "execution_count": 11,
     "metadata": {},
     "output_type": "execute_result"
    }
   ],
   "source": [
    "# Sub-list with index from to\n",
    "deck[:3]"
   ]
  },
  {
   "cell_type": "code",
   "execution_count": 12,
   "metadata": {},
   "outputs": [
    {
     "name": "stdout",
     "output_type": "stream",
     "text": [
      "Card(rank='2', suite='spades')\n",
      "Card(rank='3', suite='spades')\n",
      "Card(rank='4', suite='spades')\n",
      "Card(rank='5', suite='spades')\n",
      "Card(rank='6', suite='spades')\n",
      "Card(rank='7', suite='spades')\n",
      "Card(rank='8', suite='spades')\n",
      "Card(rank='9', suite='spades')\n",
      "Card(rank='10', suite='spades')\n",
      "Card(rank='J', suite='spades')\n",
      "Card(rank='Q', suite='spades')\n",
      "Card(rank='K', suite='spades')\n",
      "Card(rank='A', suite='spades')\n",
      "Card(rank='2', suite='diamond')\n",
      "Card(rank='3', suite='diamond')\n",
      "Card(rank='4', suite='diamond')\n",
      "Card(rank='5', suite='diamond')\n",
      "Card(rank='6', suite='diamond')\n",
      "Card(rank='7', suite='diamond')\n",
      "Card(rank='8', suite='diamond')\n",
      "Card(rank='9', suite='diamond')\n",
      "Card(rank='10', suite='diamond')\n",
      "Card(rank='J', suite='diamond')\n",
      "Card(rank='Q', suite='diamond')\n",
      "Card(rank='K', suite='diamond')\n",
      "Card(rank='A', suite='diamond')\n",
      "Card(rank='2', suite='clubs')\n",
      "Card(rank='3', suite='clubs')\n",
      "Card(rank='4', suite='clubs')\n",
      "Card(rank='5', suite='clubs')\n",
      "Card(rank='6', suite='clubs')\n",
      "Card(rank='7', suite='clubs')\n",
      "Card(rank='8', suite='clubs')\n",
      "Card(rank='9', suite='clubs')\n",
      "Card(rank='10', suite='clubs')\n",
      "Card(rank='J', suite='clubs')\n",
      "Card(rank='Q', suite='clubs')\n",
      "Card(rank='K', suite='clubs')\n",
      "Card(rank='A', suite='clubs')\n",
      "Card(rank='2', suite='hearts')\n",
      "Card(rank='3', suite='hearts')\n",
      "Card(rank='4', suite='hearts')\n",
      "Card(rank='5', suite='hearts')\n",
      "Card(rank='6', suite='hearts')\n",
      "Card(rank='7', suite='hearts')\n",
      "Card(rank='8', suite='hearts')\n",
      "Card(rank='9', suite='hearts')\n",
      "Card(rank='10', suite='hearts')\n",
      "Card(rank='J', suite='hearts')\n",
      "Card(rank='Q', suite='hearts')\n",
      "Card(rank='K', suite='hearts')\n",
      "Card(rank='A', suite='hearts')\n"
     ]
    }
   ],
   "source": [
    "# Iterable properties\n",
    "for card in deck:\n",
    "    print(card)"
   ]
  },
  {
   "cell_type": "markdown",
   "metadata": {},
   "source": [
    "## Numeric Types\n",
    "Implementing specials method ```__repr__```, ```__abs__```, ```__add__``` and ```__mul__```"
   ]
  },
  {
   "cell_type": "code",
   "execution_count": 21,
   "metadata": {},
   "outputs": [],
   "source": [
    "from math import hypot\n",
    "\n",
    "class Vector:\n",
    "    def __init__ (self, x = 0 , y = 0):\n",
    "        self.x = x\n",
    "        self.y = y\n",
    "    \n",
    "    def __repr__(self):\n",
    "        return 'Vector (%r, %s)' % (self.x, self.y)\n",
    "    \n",
    "    def __abs__(self):\n",
    "        return hypot(self.x, self.y)\n",
    "\n",
    "    def __bool__(self):\n",
    "        return bool(abs(self))\n",
    "    \n",
    "    def __add__(self, other):\n",
    "        x = self.x + other.x\n",
    "        y = self.y + other.y\n",
    "        return Vector(x,y)\n",
    "\n",
    "    def __mul__(self, scalar):\n",
    "        return Vector(self.x*scalar, self.y*scalar)"
   ]
  },
  {
   "cell_type": "code",
   "execution_count": 22,
   "metadata": {},
   "outputs": [
    {
     "data": {
      "text/plain": [
       "(Vector (4, 5), 4.47213595499958, Vector (6, 12), 13.416407864998739)"
      ]
     },
     "execution_count": 22,
     "metadata": {},
     "output_type": "execute_result"
    }
   ],
   "source": [
    "v1 = Vector(2, 4)\n",
    "v2 = Vector(2, 1)\n",
    "\n",
    "v1 + v2, abs(v1), v1*3, abs(v1*3)"
   ]
  },
  {
   "cell_type": "markdown",
   "metadata": {},
   "source": [
    "## String Representation\n",
    "```__str__``` and ```__repr__``` special method for string representation"
   ]
  },
  {
   "cell_type": "code",
   "execution_count": 32,
   "metadata": {},
   "outputs": [],
   "source": [
    "class Person:\n",
    "\n",
    "    def __init__(self, person_name, person_age):\n",
    "        self.name = person_name\n",
    "        self.age = person_age\n",
    "\n",
    "    #def __str__(self):\n",
    "    #    return f'Person name is {self.name} and age is {self.age}'\n",
    "\n",
    "    def __repr__(self):\n",
    "        return f'Person(name={self.name}, age={self.age})'"
   ]
  },
  {
   "cell_type": "code",
   "execution_count": 33,
   "metadata": {},
   "outputs": [
    {
     "name": "stdout",
     "output_type": "stream",
     "text": [
      "Person(name=Pankaj, age=34)\n",
      "Person(name=Pankaj, age=34)\n",
      "Person(name=Pankaj, age=34)\n"
     ]
    }
   ],
   "source": [
    "p = Person('Pankaj', 34)\n",
    "\n",
    "# Implement string represenation with __repr__ special method is recommended\n",
    "print(p.__str__())\n",
    "print(p.__repr__())\n",
    "\n",
    "print(p)"
   ]
  },
  {
   "cell_type": "code",
   "execution_count": null,
   "metadata": {},
   "outputs": [],
   "source": []
  }
 ],
 "metadata": {
  "kernelspec": {
   "display_name": "Python 3.10.4 64-bit",
   "language": "python",
   "name": "python3"
  },
  "language_info": {
   "codemirror_mode": {
    "name": "ipython",
    "version": 3
   },
   "file_extension": ".py",
   "mimetype": "text/x-python",
   "name": "python",
   "nbconvert_exporter": "python",
   "pygments_lexer": "ipython3",
   "version": "3.10.4"
  },
  "orig_nbformat": 4,
  "vscode": {
   "interpreter": {
    "hash": "aee8b7b246df8f9039afb4144a1f6fd8d2ca17a180786b69acc140d282b71a49"
   }
  }
 },
 "nbformat": 4,
 "nbformat_minor": 2
}
