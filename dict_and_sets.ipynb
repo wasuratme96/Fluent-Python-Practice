{
 "cells": [
  {
   "cell_type": "markdown",
   "metadata": {},
   "source": [
    "## Dictionaries\n",
    "Python dicts is highly optimized. (Hash tables are the engines behind Python's high performance)"
   ]
  },
  {
   "cell_type": "markdown",
   "metadata": {},
   "source": [
    "All mapping type in standard library use the basic dict in their implementation, so they share the limiation that the keys must be hashable (the values need not be hashable, only the keys)"
   ]
  },
  {
   "attachments": {},
   "cell_type": "markdown",
   "metadata": {},
   "source": [
    "### What is Hashable ?\n",
    "\n",
    "If it has a value wwhich never changes during its lifetile (__hash__() method) and can be compared to other objects (__eq__() method)"
   ]
  },
  {
   "cell_type": "code",
   "execution_count": 111,
   "metadata": {},
   "outputs": [
    {
     "data": {
      "text/plain": [
       "-3907003130834322577"
      ]
     },
     "execution_count": 111,
     "metadata": {},
     "output_type": "execute_result"
    }
   ],
   "source": [
    "tt = (1, 2, (30, 40))\n",
    "hash(tt)"
   ]
  },
  {
   "cell_type": "code",
   "execution_count": 112,
   "metadata": {},
   "outputs": [
    {
     "ename": "TypeError",
     "evalue": "unhashable type: 'list'",
     "output_type": "error",
     "traceback": [
      "\u001b[0;31m---------------------------------------------------------------------------\u001b[0m",
      "\u001b[0;31mTypeError\u001b[0m                                 Traceback (most recent call last)",
      "\u001b[1;32m/Users/wasuratsoontronchai/Documents/GitHub/Fluent Python Practice/Fluent-Python-Practice/dict_and_sets.ipynb Cell 5\u001b[0m in \u001b[0;36m<cell line: 2>\u001b[0;34m()\u001b[0m\n\u001b[1;32m      <a href='vscode-notebook-cell:/Users/wasuratsoontronchai/Documents/GitHub/Fluent%20Python%20Practice/Fluent-Python-Practice/dict_and_sets.ipynb#W4sZmlsZQ%3D%3D?line=0'>1</a>\u001b[0m tl \u001b[39m=\u001b[39m (\u001b[39m1\u001b[39m, \u001b[39m2\u001b[39m , [\u001b[39m30\u001b[39m, \u001b[39m40\u001b[39m])\n\u001b[0;32m----> <a href='vscode-notebook-cell:/Users/wasuratsoontronchai/Documents/GitHub/Fluent%20Python%20Practice/Fluent-Python-Practice/dict_and_sets.ipynb#W4sZmlsZQ%3D%3D?line=1'>2</a>\u001b[0m \u001b[39mhash\u001b[39;49m(tl)\n",
      "\u001b[0;31mTypeError\u001b[0m: unhashable type: 'list'"
     ]
    }
   ],
   "source": [
    "tl = (1, 2 , [30, 40])\n",
    "hash(tl)"
   ]
  },
  {
   "cell_type": "code",
   "execution_count": null,
   "metadata": {},
   "outputs": [
    {
     "data": {
      "text/plain": [
       "5149391500123939311"
      ]
     },
     "execution_count": 3,
     "metadata": {},
     "output_type": "execute_result"
    }
   ],
   "source": [
    "tf = (1, 2, frozenset([30, 40]))\n",
    "hash(tf)"
   ]
  },
  {
   "attachments": {},
   "cell_type": "markdown",
   "metadata": {},
   "source": [
    "### Dictionaries build up"
   ]
  },
  {
   "cell_type": "code",
   "execution_count": null,
   "metadata": {},
   "outputs": [
    {
     "data": {
      "text/plain": [
       "True"
      ]
     },
     "execution_count": 6,
     "metadata": {},
     "output_type": "execute_result"
    }
   ],
   "source": [
    "a = dict(one = 1, two = 2 , three =3)\n",
    "b = {'one' : 1, 'two' : 2, 'three' : 3}\n",
    "c = dict(zip(['one', 'two', 'three'], [1, 2, 3]))\n",
    "d = dict([('two', 2), ('one', 1), ('three', 3)])\n",
    "e = dict({\"three\" : 3, 'one' : 1, 'two' : 2})\n",
    "a == b == c == d == e"
   ]
  },
  {
   "attachments": {},
   "cell_type": "markdown",
   "metadata": {},
   "source": [
    "### dict Comprehensions"
   ]
  },
  {
   "cell_type": "code",
   "execution_count": null,
   "metadata": {},
   "outputs": [
    {
     "data": {
      "text/plain": [
       "{'China': 86,\n",
       " 'India': 91,\n",
       " 'United States': 1,\n",
       " 'Indonesia': 62,\n",
       " 'Brazil': 55,\n",
       " 'Pakistan': 92,\n",
       " 'Bangladesh': 880,\n",
       " 'Nigeria': 234,\n",
       " 'Russia': 7,\n",
       " 'Japan': 81}"
      ]
     },
     "execution_count": 7,
     "metadata": {},
     "output_type": "execute_result"
    }
   ],
   "source": [
    "DIAL_CODES = [(86, 'China'), \n",
    "              (91, 'India'), \n",
    "              (1, 'United States'), \n",
    "              (62, 'Indonesia'), \n",
    "              (55, 'Brazil'), \n",
    "              (92, 'Pakistan'), \n",
    "              (880, 'Bangladesh'), \n",
    "              (234, 'Nigeria'), \n",
    "              (7, 'Russia'), \n",
    "              (81, 'Japan'),]\n",
    "\n",
    "country_code = {country: code for code, country in DIAL_CODES}\n",
    "country_code"
   ]
  },
  {
   "cell_type": "code",
   "execution_count": null,
   "metadata": {},
   "outputs": [
    {
     "data": {
      "text/plain": [
       "{1: 'UNITED STATES', 62: 'INDONESIA', 55: 'BRAZIL', 7: 'RUSSIA'}"
      ]
     },
     "execution_count": 8,
     "metadata": {},
     "output_type": "execute_result"
    }
   ],
   "source": [
    "{code: country.upper() for country, code in country_code.items() if code < 66} "
   ]
  },
  {
   "attachments": {},
   "cell_type": "markdown",
   "metadata": {},
   "source": [
    "### Common Mapping Methods"
   ]
  },
  {
   "attachments": {},
   "cell_type": "markdown",
   "metadata": {},
   "source": [
    "#### Handling missing keys with setdefault"
   ]
  },
  {
   "cell_type": "code",
   "execution_count": null,
   "metadata": {},
   "outputs": [
    {
     "name": "stdout",
     "output_type": "stream",
     "text": [
      "a [(21, 48), (22, 53)]\n",
      "Although [(13, 1), (18, 1), (20, 1)]\n",
      "ambiguity [(16, 16)]\n",
      "and [(17, 23)]\n",
      "are [(23, 12)]\n",
      "aren [(12, 15)]\n",
      "at [(18, 38)]\n",
      "bad [(21, 50)]\n",
      "be [(17, 14), (18, 27), (22, 50)]\n",
      "beats [(13, 23)]\n",
      "Beautiful [(5, 1)]\n",
      "better [(5, 14), (6, 13), (7, 11), (8, 12), (9, 9), (10, 11), (19, 8), (20, 25)]\n",
      "break [(12, 40)]\n",
      "by [(3, 20)]\n",
      "cases [(12, 9)]\n",
      "complex [(7, 23)]\n",
      "Complex [(8, 1)]\n",
      "complicated [(8, 24)]\n",
      "counts [(11, 13)]\n",
      "dense [(10, 23)]\n",
      "do [(17, 64), (23, 48)]\n",
      "Dutch [(18, 61)]\n",
      "easy [(22, 26)]\n",
      "enough [(12, 30)]\n",
      "Errors [(14, 1)]\n",
      "explain [(21, 34), (22, 34)]\n",
      "Explicit [(6, 1)]\n",
      "explicitly [(15, 8)]\n",
      "face [(16, 8)]\n",
      "first [(18, 41)]\n",
      "Flat [(9, 1)]\n",
      "good [(22, 55)]\n",
      "great [(23, 28)]\n",
      "guess [(16, 52)]\n",
      "hard [(21, 26)]\n",
      "honking [(23, 20)]\n",
      "idea [(21, 54), (22, 60), (23, 34)]\n",
      "If [(21, 1), (22, 1)]\n",
      "implementation [(21, 8), (22, 8)]\n",
      "implicit [(6, 25)]\n",
      "In [(16, 1)]\n",
      "is [(5, 11), (6, 10), (7, 8), (8, 9), (9, 6), (10, 8), (19, 5), (20, 16), (21, 23), (22, 23)]\n",
      "it [(17, 67), (21, 43), (22, 43)]\n",
      "let [(23, 42)]\n",
      "may [(18, 19), (22, 46)]\n",
      "more [(23, 51)]\n",
      "Namespaces [(23, 1)]\n",
      "nested [(9, 21)]\n",
      "never [(14, 15), (19, 20), (20, 10)]\n",
      "not [(18, 23)]\n",
      "Now [(19, 1)]\n",
      "now [(20, 45)]\n",
      "obvious [(17, 49), (18, 30)]\n",
      "of [(3, 9), (16, 13), (23, 56)]\n",
      "often [(20, 19)]\n",
      "one [(17, 17), (17, 43), (23, 16)]\n",
      "only [(17, 38)]\n",
      "pass [(14, 21)]\n",
      "Peters [(3, 27)]\n",
      "practicality [(13, 10)]\n",
      "preferably [(17, 27)]\n",
      "purity [(13, 29)]\n",
      "Python [(3, 12)]\n",
      "re [(18, 58)]\n",
      "Readability [(11, 1)]\n",
      "refuse [(16, 27)]\n",
      "right [(20, 38)]\n",
      "rules [(12, 50)]\n",
      "s [(21, 46), (23, 46)]\n",
      "should [(14, 8), (17, 7)]\n",
      "silenced [(15, 19)]\n",
      "silently [(14, 26)]\n",
      "Simple [(7, 1)]\n",
      "Sparse [(10, 1)]\n",
      "Special [(12, 1)]\n",
      "special [(12, 22)]\n",
      "t [(12, 20)]\n",
      "temptation [(16, 38)]\n",
      "than [(5, 21), (6, 20), (7, 18), (8, 19), (9, 16), (10, 18), (19, 15), (20, 32)]\n",
      "that [(18, 10)]\n",
      "The [(3, 1)]\n",
      "the [(12, 46), (16, 4), (16, 34), (21, 4), (22, 4)]\n",
      "There [(17, 1)]\n",
      "those [(23, 59)]\n",
      "Tim [(3, 23)]\n",
      "to [(12, 37), (16, 49), (17, 61), (21, 31), (22, 31)]\n",
      "ugly [(5, 26)]\n",
      "Unless [(15, 1)]\n",
      "unless [(18, 47)]\n",
      "way [(17, 57), (18, 15)]\n",
      "you [(18, 54)]\n",
      "Zen [(3, 5)]\n"
     ]
    }
   ],
   "source": [
    "import sys \n",
    "import re\n",
    "\n",
    "WORD_RE = re.compile('\\w+')\n",
    "\n",
    "index = {} \n",
    "\n",
    "with open(\"./zen.txt\", encoding='utf-8') as fp:     \n",
    "    for line_no, line in enumerate(fp, 1):         \n",
    "        for match in WORD_RE.finditer(line):             \n",
    "            word = match.group()             \n",
    "            column_no = match.start()+1             \n",
    "            location = (line_no, column_no)             \n",
    "            # this is ugly; coded like this to make a point             \n",
    "            occurrences = index.get(word, [])          #1    \n",
    "            occurrences.append(location)               #2\n",
    "            index[word] = occurrences                  #3\n",
    "\n",
    "for word in sorted(index, key = str.upper):\n",
    "    print(word, index[word])"
   ]
  },
  {
   "cell_type": "code",
   "execution_count": null,
   "metadata": {},
   "outputs": [
    {
     "name": "stdout",
     "output_type": "stream",
     "text": [
      "a [(21, 48), (22, 53)]\n",
      "Although [(13, 1), (18, 1), (20, 1)]\n",
      "ambiguity [(16, 16)]\n",
      "and [(17, 23)]\n",
      "are [(23, 12)]\n",
      "aren [(12, 15)]\n",
      "at [(18, 38)]\n",
      "bad [(21, 50)]\n",
      "be [(17, 14), (18, 27), (22, 50)]\n",
      "beats [(13, 23)]\n",
      "Beautiful [(5, 1)]\n",
      "better [(5, 14), (6, 13), (7, 11), (8, 12), (9, 9), (10, 11), (19, 8), (20, 25)]\n",
      "break [(12, 40)]\n",
      "by [(3, 20)]\n",
      "cases [(12, 9)]\n",
      "complex [(7, 23)]\n",
      "Complex [(8, 1)]\n",
      "complicated [(8, 24)]\n",
      "counts [(11, 13)]\n",
      "dense [(10, 23)]\n",
      "do [(17, 64), (23, 48)]\n",
      "Dutch [(18, 61)]\n",
      "easy [(22, 26)]\n",
      "enough [(12, 30)]\n",
      "Errors [(14, 1)]\n",
      "explain [(21, 34), (22, 34)]\n",
      "Explicit [(6, 1)]\n",
      "explicitly [(15, 8)]\n",
      "face [(16, 8)]\n",
      "first [(18, 41)]\n",
      "Flat [(9, 1)]\n",
      "good [(22, 55)]\n",
      "great [(23, 28)]\n",
      "guess [(16, 52)]\n",
      "hard [(21, 26)]\n",
      "honking [(23, 20)]\n",
      "idea [(21, 54), (22, 60), (23, 34)]\n",
      "If [(21, 1), (22, 1)]\n",
      "implementation [(21, 8), (22, 8)]\n",
      "implicit [(6, 25)]\n",
      "In [(16, 1)]\n",
      "is [(5, 11), (6, 10), (7, 8), (8, 9), (9, 6), (10, 8), (19, 5), (20, 16), (21, 23), (22, 23)]\n",
      "it [(17, 67), (21, 43), (22, 43)]\n",
      "let [(23, 42)]\n",
      "may [(18, 19), (22, 46)]\n",
      "more [(23, 51)]\n",
      "Namespaces [(23, 1)]\n",
      "nested [(9, 21)]\n",
      "never [(14, 15), (19, 20), (20, 10)]\n",
      "not [(18, 23)]\n",
      "Now [(19, 1)]\n",
      "now [(20, 45)]\n",
      "obvious [(17, 49), (18, 30)]\n",
      "of [(3, 9), (16, 13), (23, 56)]\n",
      "often [(20, 19)]\n",
      "one [(17, 17), (17, 43), (23, 16)]\n",
      "only [(17, 38)]\n",
      "pass [(14, 21)]\n",
      "Peters [(3, 27)]\n",
      "practicality [(13, 10)]\n",
      "preferably [(17, 27)]\n",
      "purity [(13, 29)]\n",
      "Python [(3, 12)]\n",
      "re [(18, 58)]\n",
      "Readability [(11, 1)]\n",
      "refuse [(16, 27)]\n",
      "right [(20, 38)]\n",
      "rules [(12, 50)]\n",
      "s [(21, 46), (23, 46)]\n",
      "should [(14, 8), (17, 7)]\n",
      "silenced [(15, 19)]\n",
      "silently [(14, 26)]\n",
      "Simple [(7, 1)]\n",
      "Sparse [(10, 1)]\n",
      "Special [(12, 1)]\n",
      "special [(12, 22)]\n",
      "t [(12, 20)]\n",
      "temptation [(16, 38)]\n",
      "than [(5, 21), (6, 20), (7, 18), (8, 19), (9, 16), (10, 18), (19, 15), (20, 32)]\n",
      "that [(18, 10)]\n",
      "The [(3, 1)]\n",
      "the [(12, 46), (16, 4), (16, 34), (21, 4), (22, 4)]\n",
      "There [(17, 1)]\n",
      "those [(23, 59)]\n",
      "Tim [(3, 23)]\n",
      "to [(12, 37), (16, 49), (17, 61), (21, 31), (22, 31)]\n",
      "ugly [(5, 26)]\n",
      "Unless [(15, 1)]\n",
      "unless [(18, 47)]\n",
      "way [(17, 57), (18, 15)]\n",
      "you [(18, 54)]\n",
      "Zen [(3, 5)]\n"
     ]
    }
   ],
   "source": [
    "## Better version by using .setdefault()\n",
    "import sys \n",
    "import re\n",
    "\n",
    "WORD_RE = re.compile('\\w+')\n",
    "\n",
    "index = {} \n",
    "\n",
    "with open(\"./zen.txt\", encoding='utf-8') as fp:     \n",
    "    for line_no, line in enumerate(fp, 1):         \n",
    "        for match in WORD_RE.finditer(line):\n",
    "            # Get group of string on matched regex          \n",
    "            word = match.group()\n",
    "            # Get position of word\n",
    "            column_no = match.start()+1\n",
    "\n",
    "            # Create row and columns position       \n",
    "            location = (line_no, column_no)\n",
    "\n",
    "            # .setdefault will look up value\n",
    "            # by using word in dict\n",
    "            index.setdefault(word, []).append(location)\n",
    "\n",
    "for word in sorted(index, key = str.upper):\n",
    "    print(word, index[word])"
   ]
  },
  {
   "attachments": {},
   "cell_type": "markdown",
   "metadata": {},
   "source": [
    "### Mapping with flexible key lookup\n",
    "2 Methods availables\n",
    "- use defaultdict instead of dict\n",
    "- create subclass from dict and add __missing__ method."
   ]
  },
  {
   "cell_type": "code",
   "execution_count": null,
   "metadata": {},
   "outputs": [
    {
     "name": "stdout",
     "output_type": "stream",
     "text": [
      "a [(21, 48), (22, 53)]\n",
      "Although [(13, 1), (18, 1), (20, 1)]\n",
      "ambiguity [(16, 16)]\n",
      "and [(17, 23)]\n",
      "are [(23, 12)]\n",
      "aren [(12, 15)]\n",
      "at [(18, 38)]\n",
      "bad [(21, 50)]\n",
      "be [(17, 14), (18, 27), (22, 50)]\n",
      "beats [(13, 23)]\n",
      "Beautiful [(5, 1)]\n",
      "better [(5, 14), (6, 13), (7, 11), (8, 12), (9, 9), (10, 11), (19, 8), (20, 25)]\n",
      "break [(12, 40)]\n",
      "by [(3, 20)]\n",
      "cases [(12, 9)]\n",
      "complex [(7, 23)]\n",
      "Complex [(8, 1)]\n",
      "complicated [(8, 24)]\n",
      "counts [(11, 13)]\n",
      "dense [(10, 23)]\n",
      "do [(17, 64), (23, 48)]\n",
      "Dutch [(18, 61)]\n",
      "easy [(22, 26)]\n",
      "enough [(12, 30)]\n",
      "Errors [(14, 1)]\n",
      "explain [(21, 34), (22, 34)]\n",
      "Explicit [(6, 1)]\n",
      "explicitly [(15, 8)]\n",
      "face [(16, 8)]\n",
      "first [(18, 41)]\n",
      "Flat [(9, 1)]\n",
      "good [(22, 55)]\n",
      "great [(23, 28)]\n",
      "guess [(16, 52)]\n",
      "hard [(21, 26)]\n",
      "honking [(23, 20)]\n",
      "idea [(21, 54), (22, 60), (23, 34)]\n",
      "If [(21, 1), (22, 1)]\n",
      "implementation [(21, 8), (22, 8)]\n",
      "implicit [(6, 25)]\n",
      "In [(16, 1)]\n",
      "is [(5, 11), (6, 10), (7, 8), (8, 9), (9, 6), (10, 8), (19, 5), (20, 16), (21, 23), (22, 23)]\n",
      "it [(17, 67), (21, 43), (22, 43)]\n",
      "let [(23, 42)]\n",
      "may [(18, 19), (22, 46)]\n",
      "more [(23, 51)]\n",
      "Namespaces [(23, 1)]\n",
      "nested [(9, 21)]\n",
      "never [(14, 15), (19, 20), (20, 10)]\n",
      "not [(18, 23)]\n",
      "Now [(19, 1)]\n",
      "now [(20, 45)]\n",
      "obvious [(17, 49), (18, 30)]\n",
      "of [(3, 9), (16, 13), (23, 56)]\n",
      "often [(20, 19)]\n",
      "one [(17, 17), (17, 43), (23, 16)]\n",
      "only [(17, 38)]\n",
      "pass [(14, 21)]\n",
      "Peters [(3, 27)]\n",
      "practicality [(13, 10)]\n",
      "preferably [(17, 27)]\n",
      "purity [(13, 29)]\n",
      "Python [(3, 12)]\n",
      "re [(18, 58)]\n",
      "Readability [(11, 1)]\n",
      "refuse [(16, 27)]\n",
      "right [(20, 38)]\n",
      "rules [(12, 50)]\n",
      "s [(21, 46), (23, 46)]\n",
      "should [(14, 8), (17, 7)]\n",
      "silenced [(15, 19)]\n",
      "silently [(14, 26)]\n",
      "Simple [(7, 1)]\n",
      "Sparse [(10, 1)]\n",
      "Special [(12, 1)]\n",
      "special [(12, 22)]\n",
      "t [(12, 20)]\n",
      "temptation [(16, 38)]\n",
      "than [(5, 21), (6, 20), (7, 18), (8, 19), (9, 16), (10, 18), (19, 15), (20, 32)]\n",
      "that [(18, 10)]\n",
      "The [(3, 1)]\n",
      "the [(12, 46), (16, 4), (16, 34), (21, 4), (22, 4)]\n",
      "There [(17, 1)]\n",
      "those [(23, 59)]\n",
      "Tim [(3, 23)]\n",
      "to [(12, 37), (16, 49), (17, 61), (21, 31), (22, 31)]\n",
      "ugly [(5, 26)]\n",
      "Unless [(15, 1)]\n",
      "unless [(18, 47)]\n",
      "way [(17, 57), (18, 15)]\n",
      "you [(18, 54)]\n",
      "Zen [(3, 5)]\n"
     ]
    }
   ],
   "source": [
    "## Better better version by using .setdefault()\n",
    "import sys \n",
    "import re\n",
    "import collections\n",
    "\n",
    "WORD_RE = re.compile('\\w+')\n",
    "\n",
    "# Set default object whenever interacwith new key\n",
    "# use list constructor in this case\n",
    "index = collections.defaultdict(list)\n",
    "\n",
    "with open(\"./zen.txt\", encoding='utf-8') as fp:     \n",
    "    for line_no, line in enumerate(fp, 1):         \n",
    "        for match in WORD_RE.finditer(line):\n",
    "            # Get group of string on matched regex          \n",
    "            word = match.group()\n",
    "            # Get position of word\n",
    "            column_no = match.start()+1\n",
    "\n",
    "            # Create row and columns position       \n",
    "            location = (line_no, column_no)\n",
    "\n",
    "            # .setdefault will look up value\n",
    "            # by using word in dict\n",
    "            index[word].append(location)\n",
    "\n",
    "for word in sorted(index, key = str.upper):\n",
    "    print(word, index[word])"
   ]
  },
  {
   "attachments": {},
   "cell_type": "markdown",
   "metadata": {},
   "source": [
    "#### The __missing__ Method"
   ]
  },
  {
   "cell_type": "code",
   "execution_count": null,
   "metadata": {},
   "outputs": [],
   "source": [
    "## Create custom mapping dict\n",
    "class StrKeyDict0(dict):\n",
    "    def __missing__(self, key):\n",
    "        if isinstance(key,str):\n",
    "            raise (KeyError(key))\n",
    "        return self[str(key)]\n",
    "\n",
    "    def get(self, key, default = None):\n",
    "        try:\n",
    "            return self[key]\n",
    "        except KeyError:\n",
    "            return default\n",
    "    \n",
    "    def __contains__(self, key):\n",
    "        return key in self.keys() or str(key) in self.keys()"
   ]
  },
  {
   "cell_type": "code",
   "execution_count": null,
   "metadata": {},
   "outputs": [],
   "source": [
    "test_dict = {'1':'one',\n",
    "             '2' : 'two'}"
   ]
  },
  {
   "cell_type": "code",
   "execution_count": null,
   "metadata": {},
   "outputs": [
    {
     "data": {
      "text/plain": [
       "True"
      ]
     },
     "execution_count": 76,
     "metadata": {},
     "output_type": "execute_result"
    }
   ],
   "source": [
    "'1' in test_dict.keys() or str(1) in test_dict.keys()"
   ]
  },
  {
   "cell_type": "code",
   "execution_count": null,
   "metadata": {},
   "outputs": [
    {
     "data": {
      "text/plain": [
       "(False, True)"
      ]
     },
     "execution_count": 77,
     "metadata": {},
     "output_type": "execute_result"
    }
   ],
   "source": [
    "isinstance(1, str), isinstance('1', str)"
   ]
  },
  {
   "cell_type": "code",
   "execution_count": null,
   "metadata": {},
   "outputs": [
    {
     "data": {
      "text/plain": [
       "'two'"
      ]
     },
     "execution_count": 78,
     "metadata": {},
     "output_type": "execute_result"
    }
   ],
   "source": [
    "d = StrKeyDict0([('2', 'two'), ('4', 'four')]) \n",
    "d['2']"
   ]
  },
  {
   "cell_type": "code",
   "execution_count": null,
   "metadata": {},
   "outputs": [
    {
     "data": {
      "text/plain": [
       "'four'"
      ]
     },
     "execution_count": 79,
     "metadata": {},
     "output_type": "execute_result"
    }
   ],
   "source": [
    "d[4]"
   ]
  },
  {
   "cell_type": "code",
   "execution_count": null,
   "metadata": {},
   "outputs": [
    {
     "ename": "KeyError",
     "evalue": "'1'",
     "output_type": "error",
     "traceback": [
      "\u001b[0;31m---------------------------------------------------------------------------\u001b[0m",
      "\u001b[0;31mKeyError\u001b[0m                                  Traceback (most recent call last)",
      "\u001b[1;32m/Users/wasuratsoontronchai/Documents/GitHub/Fluent Python Practice/Fluent-Python-Practice/dict_and_sets.ipynb Cell 25\u001b[0m in \u001b[0;36m<cell line: 1>\u001b[0;34m()\u001b[0m\n\u001b[0;32m----> <a href='vscode-notebook-cell:/Users/wasuratsoontronchai/Documents/GitHub/Fluent%20Python%20Practice/Fluent-Python-Practice/dict_and_sets.ipynb#X51sZmlsZQ%3D%3D?line=0'>1</a>\u001b[0m d[\u001b[39m1\u001b[39;49m]\n",
      "\u001b[1;32m/Users/wasuratsoontronchai/Documents/GitHub/Fluent Python Practice/Fluent-Python-Practice/dict_and_sets.ipynb Cell 25\u001b[0m in \u001b[0;36mStrKeyDict0.__missing__\u001b[0;34m(self, key)\u001b[0m\n\u001b[1;32m      <a href='vscode-notebook-cell:/Users/wasuratsoontronchai/Documents/GitHub/Fluent%20Python%20Practice/Fluent-Python-Practice/dict_and_sets.ipynb#X51sZmlsZQ%3D%3D?line=3'>4</a>\u001b[0m \u001b[39mif\u001b[39;00m \u001b[39misinstance\u001b[39m(key,\u001b[39mstr\u001b[39m):\n\u001b[1;32m      <a href='vscode-notebook-cell:/Users/wasuratsoontronchai/Documents/GitHub/Fluent%20Python%20Practice/Fluent-Python-Practice/dict_and_sets.ipynb#X51sZmlsZQ%3D%3D?line=4'>5</a>\u001b[0m     \u001b[39mraise\u001b[39;00m (\u001b[39mKeyError\u001b[39;00m(key))\n\u001b[0;32m----> <a href='vscode-notebook-cell:/Users/wasuratsoontronchai/Documents/GitHub/Fluent%20Python%20Practice/Fluent-Python-Practice/dict_and_sets.ipynb#X51sZmlsZQ%3D%3D?line=5'>6</a>\u001b[0m \u001b[39mreturn\u001b[39;00m \u001b[39mself\u001b[39;49m[\u001b[39mstr\u001b[39;49m(key)]\n",
      "\u001b[1;32m/Users/wasuratsoontronchai/Documents/GitHub/Fluent Python Practice/Fluent-Python-Practice/dict_and_sets.ipynb Cell 25\u001b[0m in \u001b[0;36mStrKeyDict0.__missing__\u001b[0;34m(self, key)\u001b[0m\n\u001b[1;32m      <a href='vscode-notebook-cell:/Users/wasuratsoontronchai/Documents/GitHub/Fluent%20Python%20Practice/Fluent-Python-Practice/dict_and_sets.ipynb#X51sZmlsZQ%3D%3D?line=2'>3</a>\u001b[0m \u001b[39mdef\u001b[39;00m \u001b[39m__missing__\u001b[39m(\u001b[39mself\u001b[39m, key):\n\u001b[1;32m      <a href='vscode-notebook-cell:/Users/wasuratsoontronchai/Documents/GitHub/Fluent%20Python%20Practice/Fluent-Python-Practice/dict_and_sets.ipynb#X51sZmlsZQ%3D%3D?line=3'>4</a>\u001b[0m     \u001b[39mif\u001b[39;00m \u001b[39misinstance\u001b[39m(key,\u001b[39mstr\u001b[39m):\n\u001b[0;32m----> <a href='vscode-notebook-cell:/Users/wasuratsoontronchai/Documents/GitHub/Fluent%20Python%20Practice/Fluent-Python-Practice/dict_and_sets.ipynb#X51sZmlsZQ%3D%3D?line=4'>5</a>\u001b[0m         \u001b[39mraise\u001b[39;00m (\u001b[39mKeyError\u001b[39;00m(key))\n\u001b[1;32m      <a href='vscode-notebook-cell:/Users/wasuratsoontronchai/Documents/GitHub/Fluent%20Python%20Practice/Fluent-Python-Practice/dict_and_sets.ipynb#X51sZmlsZQ%3D%3D?line=5'>6</a>\u001b[0m     \u001b[39mreturn\u001b[39;00m \u001b[39mself\u001b[39m[\u001b[39mstr\u001b[39m(key)]\n",
      "\u001b[0;31mKeyError\u001b[0m: '1'"
     ]
    }
   ],
   "source": [
    "d[1]"
   ]
  },
  {
   "cell_type": "code",
   "execution_count": null,
   "metadata": {},
   "outputs": [
    {
     "data": {
      "text/plain": [
       "'two'"
      ]
     },
     "execution_count": 81,
     "metadata": {},
     "output_type": "execute_result"
    }
   ],
   "source": [
    "d.get('2')"
   ]
  },
  {
   "cell_type": "code",
   "execution_count": null,
   "metadata": {},
   "outputs": [
    {
     "data": {
      "text/plain": [
       "'four'"
      ]
     },
     "execution_count": 82,
     "metadata": {},
     "output_type": "execute_result"
    }
   ],
   "source": [
    "d.get(4) # from implement __missing_ method in class"
   ]
  },
  {
   "cell_type": "code",
   "execution_count": null,
   "metadata": {},
   "outputs": [
    {
     "data": {
      "text/plain": [
       "'N/A'"
      ]
     },
     "execution_count": 83,
     "metadata": {},
     "output_type": "execute_result"
    }
   ],
   "source": [
    "d.get(1, 'N/A')"
   ]
  },
  {
   "cell_type": "code",
   "execution_count": null,
   "metadata": {},
   "outputs": [
    {
     "data": {
      "text/plain": [
       "(True, False)"
      ]
     },
     "execution_count": 84,
     "metadata": {},
     "output_type": "execute_result"
    }
   ],
   "source": [
    "2 in d, 1 in d # from implement __contains__ method in class"
   ]
  },
  {
   "attachments": {},
   "cell_type": "markdown",
   "metadata": {},
   "source": [
    "### Variations of dict\n",
    "\n",
    "- collections.OrderedDict : Garuntee order of item, can use```popitem``` to remove key\n",
    "- collections.ChainMap : \n",
    "- collections.Counter : Mapping that holds integer count for each key.\n",
    "- collections.UserDict : -> Design to be subclassed"
   ]
  },
  {
   "cell_type": "code",
   "execution_count": null,
   "metadata": {},
   "outputs": [
    {
     "data": {
      "text/plain": [
       "Counter({'a': 5, 'b': 2, 'r': 2, 'c': 1, 'd': 1})"
      ]
     },
     "execution_count": 88,
     "metadata": {},
     "output_type": "execute_result"
    }
   ],
   "source": [
    "ct = collections.Counter('abracadabra')\n",
    "ct"
   ]
  },
  {
   "cell_type": "code",
   "execution_count": null,
   "metadata": {},
   "outputs": [
    {
     "data": {
      "text/plain": [
       "Counter({'a': 10, 'b': 2, 'r': 2, 'c': 1, 'd': 1, 'z': 3})"
      ]
     },
     "execution_count": 89,
     "metadata": {},
     "output_type": "execute_result"
    }
   ],
   "source": [
    "ct.update('aaaaazzz')\n",
    "ct"
   ]
  },
  {
   "cell_type": "code",
   "execution_count": null,
   "metadata": {},
   "outputs": [
    {
     "data": {
      "text/plain": [
       "[('a', 10), ('z', 3)]"
      ]
     },
     "execution_count": 90,
     "metadata": {},
     "output_type": "execute_result"
    }
   ],
   "source": [
    "ct.most_common(2)"
   ]
  },
  {
   "attachments": {},
   "cell_type": "markdown",
   "metadata": {},
   "source": [
    "### Set\n",
    "Set is a collection of unique objects. <br/>\n",
    "Basic use is to remove duplication and it is faster when using on membership operation <br/>\n"
   ]
  },
  {
   "cell_type": "code",
   "execution_count": null,
   "metadata": {},
   "outputs": [],
   "source": [
    "# Sudo code\n",
    "needles = {1, 2 , 3 , 4 , 5}\n",
    "haystack = {2, 10, 11, 12, 13}\n",
    "found = len(needles & haystack)"
   ]
  },
  {
   "attachments": {},
   "cell_type": "markdown",
   "metadata": {},
   "source": [
    "#### set literal"
   ]
  },
  {
   "cell_type": "code",
   "execution_count": null,
   "metadata": {},
   "outputs": [
    {
     "data": {
      "text/plain": [
       "set"
      ]
     },
     "execution_count": 93,
     "metadata": {},
     "output_type": "execute_result"
    }
   ],
   "source": [
    "s = {1, 2}\n",
    "type(s)"
   ]
  },
  {
   "cell_type": "code",
   "execution_count": null,
   "metadata": {},
   "outputs": [
    {
     "data": {
      "text/plain": [
       "1"
      ]
     },
     "execution_count": 94,
     "metadata": {},
     "output_type": "execute_result"
    }
   ],
   "source": [
    "s.pop()"
   ]
  },
  {
   "cell_type": "code",
   "execution_count": null,
   "metadata": {},
   "outputs": [
    {
     "data": {
      "text/plain": [
       "{2}"
      ]
     },
     "execution_count": 95,
     "metadata": {},
     "output_type": "execute_result"
    }
   ],
   "source": [
    "s"
   ]
  },
  {
   "cell_type": "code",
   "execution_count": null,
   "metadata": {},
   "outputs": [
    {
     "data": {
      "text/plain": [
       "2"
      ]
     },
     "execution_count": 96,
     "metadata": {},
     "output_type": "execute_result"
    }
   ],
   "source": [
    "s.pop()"
   ]
  },
  {
   "attachments": {},
   "cell_type": "markdown",
   "metadata": {},
   "source": [
    "#### Set Comprehension"
   ]
  },
  {
   "cell_type": "code",
   "execution_count": null,
   "metadata": {},
   "outputs": [
    {
     "data": {
      "text/plain": [
       "{'#',\n",
       " '$',\n",
       " '%',\n",
       " '+',\n",
       " '<',\n",
       " '=',\n",
       " '>',\n",
       " '¢',\n",
       " '£',\n",
       " '¤',\n",
       " '¥',\n",
       " '§',\n",
       " '©',\n",
       " '¬',\n",
       " '®',\n",
       " '°',\n",
       " '±',\n",
       " 'µ',\n",
       " '¶',\n",
       " '×',\n",
       " '÷'}"
      ]
     },
     "execution_count": 104,
     "metadata": {},
     "output_type": "execute_result"
    }
   ],
   "source": [
    "from unicodedata import name\n",
    "{chr(i) for i in range(32, 256) if 'SIGN' in name(chr(i), '')} "
   ]
  },
  {
   "attachments": {},
   "cell_type": "markdown",
   "metadata": {},
   "source": [
    "### dict and set Under the Hood\n",
    "- How efficient are Python dict and set\n",
    "- Why are they unordered\n",
    "- Why can't we use any Python object as a dict key of set element\n",
    "- Why does the order of dict keys or set elements depend on insertion order, and may change during the liftime of structure\n",
    "- Why is it bad to add items to a dicct or set while iteratin throught is ?"
   ]
  },
  {
   "attachments": {},
   "cell_type": "markdown",
   "metadata": {},
   "source": [
    "#### A Performance Experiment\n",
    "- dict is fastest\n",
    "- set is 2nd rank\n",
    "- list is worst"
   ]
  },
  {
   "attachments": {},
   "cell_type": "markdown",
   "metadata": {},
   "source": [
    "#### Hash Tables in Dictionaries\n",
    "- Key must be hashable objects (support hash(), support eq() method, if a == b then hash(a) == hash(b))\n",
    "- dict have significant memory overhead than normal list\n",
    "- Key search is very fast\n",
    "- Key ordering depends on insertion order"
   ]
  },
  {
   "cell_type": "code",
   "execution_count": 128,
   "metadata": {},
   "outputs": [],
   "source": [
    "DIAL_CODES = [\n",
    "        (86, 'China'),\n",
    "        (91, 'India'),\n",
    "        (1, 'United States'),\n",
    "        (62, 'Indonesia'),\n",
    "        (55, 'Brazil'),\n",
    "        (92, 'Pakistan'),\n",
    "        (880, 'Bangladesh'),\n",
    "        (234, 'Nigeria'),\n",
    "        (7, 'Russia'),\n",
    "        (81, 'Japan'),\n",
    "    ]"
   ]
  },
  {
   "cell_type": "code",
   "execution_count": 129,
   "metadata": {},
   "outputs": [
    {
     "name": "stdout",
     "output_type": "stream",
     "text": [
      "d1: dict_keys([86, 91, 1, 62, 55, 92, 880, 234, 7, 81])\n"
     ]
    }
   ],
   "source": [
    "d1 = dict(DIAL_CODES)\n",
    "print('d1:', d1.keys())"
   ]
  },
  {
   "cell_type": "code",
   "execution_count": 130,
   "metadata": {},
   "outputs": [
    {
     "name": "stdout",
     "output_type": "stream",
     "text": [
      "d2: dict_keys([1, 7, 55, 62, 81, 86, 91, 92, 234, 880])\n"
     ]
    }
   ],
   "source": [
    "d2 = dict(sorted(DIAL_CODES))\n",
    "print('d2:', d2.keys())"
   ]
  },
  {
   "cell_type": "code",
   "execution_count": 131,
   "metadata": {},
   "outputs": [
    {
     "name": "stdout",
     "output_type": "stream",
     "text": [
      "d3: dict_keys([880, 55, 86, 91, 62, 81, 234, 92, 7, 1])\n"
     ]
    }
   ],
   "source": [
    "d3 = dict(sorted(DIAL_CODES, key = lambda x:x[1])) # Sort by position 1 of tuple (Country name)\n",
    "print('d3:', d3.keys())"
   ]
  },
  {
   "cell_type": "code",
   "execution_count": 132,
   "metadata": {},
   "outputs": [],
   "source": [
    "assert d1 == d2 and d2 == d3"
   ]
  },
  {
   "attachments": {},
   "cell_type": "markdown",
   "metadata": {},
   "source": [
    "**Adding items to a dict may change the order of existing keys**\n",
    "\n",
    "- When dictonary needs to grow -> python will change how to hash and change to new hash table\n",
    "- Or when hash collision happen -> python will also rearrange the new hash table\n",
    "\n",
    "This is why modifying the contenst of a dict while iterating throught it is a bad idea.<br/>\n",
    "If you need to scan and add items to a dictionary, do it in 2 steps:\n",
    "- scan dict and collect the needed item in another dict\n",
    "- update the 1st dict with 2nd dict"
   ]
  },
  {
   "attachments": {},
   "cell_type": "markdown",
   "metadata": {},
   "source": [
    "### Set are hash table too !\n",
    "Except that each bucket holds only a ference to the element ! "
   ]
  },
  {
   "cell_type": "code",
   "execution_count": null,
   "metadata": {},
   "outputs": [],
   "source": []
  }
 ],
 "metadata": {
  "kernelspec": {
   "display_name": "Python 3.10.4 64-bit",
   "language": "python",
   "name": "python3"
  },
  "language_info": {
   "codemirror_mode": {
    "name": "ipython",
    "version": 3
   },
   "file_extension": ".py",
   "mimetype": "text/x-python",
   "name": "python",
   "nbconvert_exporter": "python",
   "pygments_lexer": "ipython3",
   "version": "3.10.4"
  },
  "orig_nbformat": 4,
  "vscode": {
   "interpreter": {
    "hash": "aee8b7b246df8f9039afb4144a1f6fd8d2ca17a180786b69acc140d282b71a49"
   }
  }
 },
 "nbformat": 4,
 "nbformat_minor": 2
}
